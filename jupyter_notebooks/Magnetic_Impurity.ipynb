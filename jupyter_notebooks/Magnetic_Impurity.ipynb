{
 "cells": [
  {
   "cell_type": "markdown",
   "metadata": {},
   "source": [
    "# Graphene with magnetic impurities"
   ]
  },
  {
   "cell_type": "code",
   "execution_count": 1,
   "metadata": {},
   "outputs": [],
   "source": [
    "import kwant\n",
    "import tinyarray\n",
    "import numpy as np\n",
    "import matplotlib.pyplot as plt\n",
    "from itertools import product"
   ]
  },
  {
   "cell_type": "code",
   "execution_count": 5,
   "metadata": {},
   "outputs": [],
   "source": [
    "#====================================================================#\n",
    "#                    Lattice definitions                           #\n",
    "#====================================================================#\n",
    "## Matrix Definitions:\n",
    "sigma_0 = tinyarray.array([[1,0],[0,1]])\n",
    "sigma_x = tinyarray.array([[0,1],[1,0]])\n",
    "sigma_y = tinyarray.array([[0,-1j],[1j,0]])\n",
    "sigma_z = tinyarray.array([[1,0],[0,-1]])\n",
    "\n",
    "\n",
    "## Graphene lattice Definition:\n",
    "sin_30 = 1/2\n",
    "cos_30 = np.sqrt(3)/2\n",
    "\n",
    "graphene = kwant.lattice.general([(1, 0), (sin_30, cos_30)], # primitive vectors\n",
    "                                 [(0, 0), (0, 1 / np.sqrt(3))],        # coord. of basis atoms\n",
    "                                 norbs = 4,                            # number of orbitals per site (spin)\n",
    "                                 name='Graphene'                       # name of identification\n",
    "                                )\n",
    "## Split in sublattices:\n",
    "A, B = graphene.sublattices\n",
    "\n",
    "## Adatom lattice definition:\n",
    "hydrogen = kwant.lattice.general([(1, 0), (sin_30, cos_30)],    # primitive vectors\n",
    "                                 [(0, 0), (0, 1 / np.sqrt(3))], # coord. of basis atoms\n",
    "                                 norbs = 4,\n",
    "                                 name='H')\n",
    "\n",
    "## Split in sublattices\n",
    "HA, HB = hydrogen.sublattices\n",
    "\n",
    "## Physical constants\n",
    "g_Lande = 2\n",
    "Magneton_Bohr = 5.788e-5 # eV/T"
   ]
  },
  {
   "cell_type": "code",
   "execution_count": 4,
   "metadata": {},
   "outputs": [
    {
     "data": {
      "text/plain": [
       "array([[ 1,  0,  0,  0],\n",
       "       [ 0,  1,  0,  0],\n",
       "       [ 0,  0, -1,  0],\n",
       "       [ 0,  0,  0, -1]])"
      ]
     },
     "execution_count": 4,
     "metadata": {},
     "output_type": "execute_result"
    }
   ],
   "source": [
    "np.kron(sigma_z, sigma_0)"
   ]
  },
  {
   "cell_type": "code",
   "execution_count": 5,
   "metadata": {},
   "outputs": [
    {
     "data": {
      "text/plain": [
       "array([[0, 0, 1, 0],\n",
       "       [0, 0, 0, 1],\n",
       "       [1, 0, 0, 0],\n",
       "       [0, 1, 0, 0]])"
      ]
     },
     "execution_count": 5,
     "metadata": {},
     "output_type": "execute_result"
    }
   ],
   "source": [
    "np.kron(sigma_x, sigma_0)"
   ]
  },
  {
   "cell_type": "code",
   "execution_count": 9,
   "metadata": {},
   "outputs": [
    {
     "data": {
      "text/plain": [
       "array([[ 0.,  0., -1., -0.],\n",
       "       [ 0.,  0., -0., -1.],\n",
       "       [ 1.,  0.,  0.,  0.],\n",
       "       [ 0.,  1.,  0.,  0.]])"
      ]
     },
     "execution_count": 9,
     "metadata": {},
     "output_type": "execute_result"
    }
   ],
   "source": [
    "np.kron(sigma_y, sigma_0).imag"
   ]
  },
  {
   "cell_type": "markdown",
   "metadata": {},
   "source": [
    "## Tests for generalization"
   ]
  },
  {
   "cell_type": "code",
   "execution_count": 11,
   "metadata": {},
   "outputs": [
    {
     "data": {
      "text/plain": [
       "tinyarray.ndarray_float"
      ]
     },
     "execution_count": 11,
     "metadata": {},
     "output_type": "execute_result"
    }
   ],
   "source": [
    "type(tinyarray.array(np.kron(sigma_x, np.identity(1))))"
   ]
  },
  {
   "cell_type": "code",
   "execution_count": 16,
   "metadata": {},
   "outputs": [],
   "source": [
    "s_x = np.array([[ 0,  1],[ 1, 0]])\n",
    "s_y = np.array([[ 0,-1j],[1j, 0]])\n",
    "s_z = np.array([[ 1,  0],[ 0,-1]])\n",
    "\n",
    "H_J_matrix = tinyarray.array(np.kron(s_x, s_x) + np.kron(s_y, s_y) + np.kron(s_z, s_z))"
   ]
  },
  {
   "cell_type": "code",
   "execution_count": 18,
   "metadata": {},
   "outputs": [
    {
     "data": {
      "text/plain": [
       "array([[(1+0j), 0j, 0j, 0j],\n",
       "       [0j, (-1+0j), (2+0j), 0j],\n",
       "       [0j, (2+0j), (-1+0j), 0j],\n",
       "       [0j, 0j, 0j, (1+0j)]])"
      ]
     },
     "execution_count": 18,
     "metadata": {},
     "output_type": "execute_result"
    }
   ],
   "source": [
    "H_J_matrix"
   ]
  },
  {
   "cell_type": "code",
   "execution_count": 20,
   "metadata": {},
   "outputs": [
    {
     "data": {
      "text/plain": [
       "array([[0, 5],\n",
       "       [5, 0]])"
      ]
     },
     "execution_count": 20,
     "metadata": {},
     "output_type": "execute_result"
    }
   ],
   "source": [
    "tinyarray.array(5 * s_x) "
   ]
  },
  {
   "cell_type": "code",
   "execution_count": null,
   "metadata": {},
   "outputs": [],
   "source": []
  }
 ],
 "metadata": {
  "kernelspec": {
   "display_name": "python (kwant)",
   "language": "python",
   "name": "kwant"
  },
  "language_info": {
   "codemirror_mode": {
    "name": "ipython",
    "version": 3
   },
   "file_extension": ".py",
   "mimetype": "text/x-python",
   "name": "python",
   "nbconvert_exporter": "python",
   "pygments_lexer": "ipython3",
   "version": "3.8.2"
  },
  "toc": {
   "base_numbering": 1,
   "nav_menu": {},
   "number_sections": false,
   "sideBar": true,
   "skip_h1_title": false,
   "title_cell": "Table of Contents",
   "title_sidebar": "Contents",
   "toc_cell": false,
   "toc_position": {},
   "toc_section_display": true,
   "toc_window_display": false
  }
 },
 "nbformat": 4,
 "nbformat_minor": 4
}
