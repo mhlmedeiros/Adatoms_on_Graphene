{
 "cells": [
  {
   "cell_type": "markdown",
   "metadata": {
    "hideCode": false,
    "hidePrompt": false
   },
   "source": [
    "# Graphene with a single adatom"
   ]
  },
  {
   "cell_type": "code",
   "execution_count": 1,
   "metadata": {
    "code_folding": [
     0
    ],
    "hideCode": false,
    "hidePrompt": false
   },
   "outputs": [],
   "source": [
    "## import statements\n",
    "import kwant\n",
    "import tinyarray\n",
    "import numpy as np\n",
    "import matplotlib as mpl\n",
    "import matplotlib.pyplot as plt\n",
    "from itertools import product\n",
    "\n",
    "FONT_LABELS = 20\n",
    "# font = {'family' : 'serif', 'weight' : 'bold', 'size': FONT_LABELS}\n",
    "font = {'size': FONT_LABELS}\n",
    "mpl.rc('font', **font)\n",
    "# plt.rc('text', usetex=True)"
   ]
  },
  {
   "cell_type": "markdown",
   "metadata": {
    "hideCode": false,
    "hidePrompt": false
   },
   "source": [
    "## Definition of the Graphene strip"
   ]
  },
  {
   "cell_type": "markdown",
   "metadata": {
    "hideCode": false,
    "hidePrompt": false
   },
   "source": [
    "Let's start by defining a system without SOC terms, but with two orbitals per site representing the spin. To do so, we've adopted the `general` lattice definition from `kwant.lattice` module. Such a function needs the primitive vectors and the coordinates of the basis atoms:\n",
    "\n",
    "**Primitive vectors:**\n",
    "* (1, 0)\n",
    "* ($\\sin 30°$, $\\cos 30°$)\n",
    "\n",
    "**Coordinates of basis atoms:**\n",
    "* (0, 0)\n",
    "* (0, $\\frac{1}{\\sqrt 3}$)"
   ]
  },
  {
   "cell_type": "code",
   "execution_count": 2,
   "metadata": {
    "code_folding": [
     0
    ]
   },
   "outputs": [],
   "source": [
    "## Constants and important matrices\n",
    "zeros_2x2 = tinyarray.array([[0,0],[0,0]])\n",
    "sigma_0 = tinyarray.array([[1,0],[0,1]])\n",
    "sigma_x = tinyarray.array([[0,1],[1,0]])\n",
    "sigma_y = tinyarray.array([[0,-1j],[1j,0]])\n",
    "sigma_z = tinyarray.array([[1,0],[0,-1]])\n",
    "\n",
    "g_Lande = 2\n",
    "Magneton_Bohr = 5.788e-5 # eV/T"
   ]
  },
  {
   "cell_type": "code",
   "execution_count": 3,
   "metadata": {
    "code_folding": [
     0
    ],
    "hideCode": false,
    "hidePrompt": false
   },
   "outputs": [],
   "source": [
    "class Rectangle:\n",
    "    \"\"\"\n",
    "    Class to define callable objects to define the \n",
    "    shape of the scattering region of a rectangular\n",
    "    system.\n",
    "    \"\"\"\n",
    "    def __init__(self, W, L):\n",
    "        '''\n",
    "        Calling the scattering region as strip:\n",
    "        W = width of the strip\n",
    "        L = length of the strip \n",
    "        '''\n",
    "        self.W = W\n",
    "        self.L = L\n",
    "        \n",
    "    def __call__(self, pos):\n",
    "        W, L = self.W, self.L\n",
    "        x, y = pos\n",
    "        return -W/2 < y < W/2 and -L/2 <= x <= L/2\n",
    "    \n",
    "    def leads(self, pos):\n",
    "        W = self.W\n",
    "        _, y = pos\n",
    "        return -W/2 < y < W/2"
   ]
  },
  {
   "cell_type": "markdown",
   "metadata": {
    "hideCode": false,
    "hidePrompt": false
   },
   "source": [
    "### Builder functions:"
   ]
  },
  {
   "cell_type": "markdown",
   "metadata": {},
   "source": [
    "With the inclusion of the magnetic field, we have to change the way the **on-site** and the **hoppings** are defined: both will be field and position dependent now. As we have been done so far, we'll change these aspects one-by-one adopting the code without magnetic field (located in notebook `randomly_positioned_adatoms`) as a template."
   ]
  },
  {
   "cell_type": "markdown",
   "metadata": {},
   "source": [
    "#### Zeeman effect"
   ]
  },
  {
   "cell_type": "code",
   "execution_count": 4,
   "metadata": {
    "code_folding": [
     0
    ]
   },
   "outputs": [],
   "source": [
    " class Bfield:\n",
    "    def __init__(self, Bvalue, Length_centered):\n",
    "        self.Bvalue = Bvalue\n",
    "        self.L = Length_centered\n",
    "        \n",
    "    def __call__(self, x, y):\n",
    "        return self.Bvalue if np.abs(x) <= self.L/2 else 0 "
   ]
  },
  {
   "cell_type": "code",
   "execution_count": 5,
   "metadata": {
    "code_folding": [
     0,
     13
    ]
   },
   "outputs": [],
   "source": [
    "def on_site_with_Zeeman(site, V, B, Lm):\n",
    "    \"\"\"\n",
    "    This function defines the on-site energy by\n",
    "    allowing to pass functions of position for\n",
    "    the electrical potential and the magnetic field\n",
    "    separately in order to account for the Zeeman\n",
    "    effect.\n",
    "    \"\"\"\n",
    "    x, y = site.pos\n",
    "    Bfunc = Bfield(Bvalue=B, Length_centered=Lm)\n",
    "    H_Z = g_Lande * Magneton_Bohr/2 * Bfunc(x,y) * sigma_z\n",
    "    return V * sigma_0 + H_Z\n",
    "\n",
    "def on_site_H_with_Zeeman(site, eps_H, B, Lm):\n",
    "    \"\"\"\n",
    "    This function defines the on-site energy by\n",
    "    allowing to pass functions of position for\n",
    "    the electrical potential and the magnetic field\n",
    "    separately in order to account for the Zeeman\n",
    "    effect.\n",
    "    \"\"\"\n",
    "    x, y = site.pos\n",
    "    Bfunc = Bfield(Bvalue=B, Length_centered=Lm)\n",
    "    H_Z = g_Lande * Magneton_Bohr/2 * Bfunc(x,y) * sigma_z\n",
    "    return eps_H * sigma_0 + H_Z"
   ]
  },
  {
   "cell_type": "markdown",
   "metadata": {},
   "source": [
    "#### Peierls subbstitution"
   ]
  },
  {
   "cell_type": "code",
   "execution_count": 6,
   "metadata": {
    "code_folding": [
     1,
     4,
     11,
     17,
     23
    ]
   },
   "outputs": [],
   "source": [
    "## POSITION DEPENDENT HOPPINGS\n",
    "def hopping_by_hand(Site1, Site2, t, B, Lm, peierls):\n",
    "    return -t * sigma_0 * peierls(Site1, Site2, B, Lm)\n",
    "\n",
    "def peierls_1(Site1, Site2, B, Lm):\n",
    "    (x_i, y_i) = Site1.pos # Target\n",
    "    (x_j, y_j) = Site2.pos # Source\n",
    "    x_i, x_j = change_x(x_i, Lm), change_x(x_j, Lm)\n",
    "    theta = B/2 * (x_i + x_j) * (y_i - y_j)\n",
    "    return np.exp(-1j*theta)\n",
    "\n",
    "def peierls_lead_L(Site1, Site2, B, Lm):\n",
    "    (x_i, y_i) = Site1.pos # Target\n",
    "    (x_j, y_j) = Site2.pos # Source\n",
    "    theta = -B/2 * Lm * (y_i - y_j)\n",
    "    return np.exp(-1j*theta)\n",
    "\n",
    "def peierls_lead_R(Site1, Site2, B, Lm):\n",
    "    (x_i, y_i) = Site1.pos # Target\n",
    "    (x_j, y_j) = Site2.pos # Source\n",
    "    theta = B/2 * Lm * (y_i - y_j)\n",
    "    return np.exp(-1j*theta)\n",
    "\n",
    "def change_x(x, Lm):\n",
    "    if (-Lm/2) <= x <= (Lm/2): return x\n",
    "    elif x > (Lm/2): return Lm/2\n",
    "    else: return -Lm/2"
   ]
  },
  {
   "cell_type": "code",
   "execution_count": 7,
   "metadata": {
    "code_folding": [
     0
    ]
   },
   "outputs": [],
   "source": [
    "class HoppingFunction(object):\n",
    "    \n",
    "    def __init__(self, B_0_hopping, sign):\n",
    "        self.B_0_hopping = B_0_hopping\n",
    "        self.sign = sign\n",
    "        \n",
    "    def __call__(self, site1, site2, B, Lm, peierls):\n",
    "        return self.sign * self.B_0_hopping * peierls(site1, site2, B, Lm)"
   ]
  },
  {
   "cell_type": "code",
   "execution_count": 8,
   "metadata": {
    "code_folding": [
     0
    ],
    "hideCode": false,
    "hidePrompt": false
   },
   "outputs": [],
   "source": [
    "def include_ISOC(system, G_sub_lattices, lambda_I=1):\n",
    "    \"\"\"\n",
    "    ## INCLUDING THE INTRINSIC SOC (isoc):\n",
    "    system         := kwant.builder.Builder\n",
    "    G_sub_lattices := list of Graphene sublattices\n",
    "    lambda_I       := parameter\n",
    "    \"\"\"\n",
    "    sub_a, sub_b = G_sub_lattices\n",
    "    # lambda_I   = 1 ## non-realistic; see reference: PRL 110, 246602 (2013)\n",
    "    \n",
    "    H_isoc_matrix = -1j/3 * lambda_I/np.sqrt(3) * sigma_z # counter-clockwise\n",
    "    \n",
    "    H_isoc_p = HoppingFunction(B_0_hopping=H_isoc_matrix, sign=+1)\n",
    "    H_isoc_m = HoppingFunction(B_0_hopping=H_isoc_matrix, sign=-1)\n",
    "    \n",
    "    system[kwant.builder.HoppingKind((1,0), sub_a, sub_a)]  = H_isoc_p\n",
    "    system[kwant.builder.HoppingKind((0,1), sub_a, sub_a)]  = H_isoc_m\n",
    "    system[kwant.builder.HoppingKind((-1,1), sub_a, sub_a)] = H_isoc_p\n",
    "    system[kwant.builder.HoppingKind((1,0), sub_b, sub_b)]  = H_isoc_p\n",
    "    system[kwant.builder.HoppingKind((0,1), sub_b, sub_b)]  = H_isoc_p\n",
    "    system[kwant.builder.HoppingKind((-1,1), sub_b, sub_b)] = H_isoc_m"
   ]
  },
  {
   "cell_type": "code",
   "execution_count": 9,
   "metadata": {
    "code_folding": [],
    "hideCode": false,
    "hidePrompt": false
   },
   "outputs": [],
   "source": [
    "def make_graphene_strip(lattice, scatter_shape, t=1, iso=1e-6):\n",
    "    \n",
    "#     sym = kwant.TranslationalSymmetry(graphene.vec((1, 0)), graphene.vec((0, 1)))\n",
    "    \n",
    "#     syst = kwant.Builder(sym)\n",
    "    syst = kwant.Builder()\n",
    "    syst[lattice.shape(scatter_shape, (0, 0))] = on_site_with_Zeeman  # this is a func. of Bfield and pos.\n",
    "\n",
    "    # Specify the hoppings for graphene lattice in the\n",
    "    # format expected by builder.HoppingKind\n",
    "    a, b = lattice.sublattices\n",
    "    hoppings_list = (((0, 0), a, b), ((0, 1), a, b), ((-1, 1), a, b))\n",
    "    \n",
    "#     hopping = t * sigma_0\n",
    "    \n",
    "    syst[[kwant.builder.HoppingKind(*hop) for hop in hoppings_list]] = hopping_by_hand\n",
    "    syst.eradicate_dangling()\n",
    "    \n",
    "    include_ISOC(syst, [a,b], lambda_I=iso)\n",
    "    \n",
    "    return syst"
   ]
  },
  {
   "cell_type": "code",
   "execution_count": 10,
   "metadata": {
    "code_folding": [
     0
    ],
    "hideCode": false,
    "hidePrompt": false
   },
   "outputs": [],
   "source": [
    "def make_graphene_leads(lattice, lead_shape, t=1, on_site=0, iso=1e-6):\n",
    "    a, b = lattice.sublattices\n",
    "    symmetry = kwant.TranslationalSymmetry((-1,0))\n",
    "    symmetry.add_site_family(a, other_vectors=[(-1,2)])\n",
    "    symmetry.add_site_family(b, other_vectors=[(-1,2)])\n",
    "\n",
    "    lead_0 = kwant.Builder(symmetry)\n",
    "    lead_0[lattice.shape(lead_shape, (0,0))] = zeros_2x2\n",
    "\n",
    "    hoppings_list = (((0, 0), a, b), ((0, 1), a, b), ((-1, 1), a, b))\n",
    "#     hopping = t * sigma_0\n",
    "    lead_0[(kwant.builder.HoppingKind(*hop) for hop in hoppings_list)] = hopping_by_hand\n",
    "    lead_0.eradicate_dangling()\n",
    "    include_ISOC(lead_0, [a,b], lambda_I=iso)\n",
    "\n",
    "    lead_1 = lead_0.reversed()\n",
    "    \n",
    "    lead_0 = lead_0.substituted(peierls='peierls_lead_L')\n",
    "    lead_1 = lead_1.substituted(peierls='peierls_lead_R')\n",
    "\n",
    "    return [lead_0, lead_1]"
   ]
  },
  {
   "cell_type": "markdown",
   "metadata": {},
   "source": [
    "## Parameters"
   ]
  },
  {
   "cell_type": "code",
   "execution_count": 11,
   "metadata": {},
   "outputs": [],
   "source": [
    "parameters_wo_adatom_wo_B = dict(V=0,\n",
    "                       t=2.6,\n",
    "                       B=0.16,\n",
    "                       peierls=peierls_1,\n",
    "                       peierls_lead_L=peierls_lead_L,\n",
    "                       peierls_lead_R=peierls_lead_R,\n",
    "                       Lm=3,\n",
    "                    )\n",
    "\n",
    "parameters_B = dict(V=0,\n",
    "                       t=2.6,\n",
    "                       B=0.05*np.pi,\n",
    "                       eps_H=0.16,\n",
    "                       peierls=peierls_1,\n",
    "                       peierls_lead_L=peierls_lead_L,\n",
    "                       peierls_lead_R=peierls_lead_R,\n",
    "                       Lm=3,\n",
    "                    )\n",
    "\n",
    "parameters_wo_B = dict(V=0,\n",
    "                       t=2.6,\n",
    "                       B=0,\n",
    "                       eps_H=0.16,\n",
    "                       peierls=peierls_1,\n",
    "                       peierls_lead_L=peierls_lead_L,\n",
    "                       peierls_lead_R=peierls_lead_R,\n",
    "                       Lm=3,\n",
    "                    )\n"
   ]
  },
  {
   "cell_type": "markdown",
   "metadata": {},
   "source": [
    "## Density of states without Adatom"
   ]
  },
  {
   "cell_type": "code",
   "execution_count": 12,
   "metadata": {
    "code_folding": [],
    "hideCode": false,
    "hidePrompt": false
   },
   "outputs": [],
   "source": [
    "# Make the system\n",
    "sin_30 = 1/2\n",
    "cos_30 = np.sqrt(3)/2\n",
    "\n",
    "graphene = kwant.lattice.general([(1, 0), (sin_30, cos_30)], # primitive vectors\n",
    "                                 [(0, 0), (0, 1 / np.sqrt(3))],        # coord. of basis atoms\n",
    "                                 norbs = 2,                            # number of orbitals per site (spin)\n",
    "                                 name='Graphene'                       # name of identification\n",
    "                                )\n",
    "## Split in sublattices:\n",
    "A, B = graphene.sublattices\n",
    "\n",
    "## Define the shape of the system:\n",
    "shape = Rectangle(W=1000, L=5)\n",
    "\n",
    "## Build the scattering region:\n",
    "system = make_graphene_strip(graphene, shape, t=2.6, iso=1e-6)\n",
    "\n",
    "## Make the leads:\n",
    "leads  = make_graphene_leads(graphene, shape.leads, t=1, on_site=0, iso=1e-6)\n",
    "\n",
    "## Attach the leads:\n",
    "for lead in leads:\n",
    "    system.attach_lead(lead)"
   ]
  },
  {
   "cell_type": "code",
   "execution_count": 13,
   "metadata": {
    "code_folding": []
   },
   "outputs": [],
   "source": [
    "fsystem = system.finalized() ## Finalize the system\n",
    "spectrum = kwant.kpm.SpectralDensity(fsystem, params=parameters_wo_adatom_wo_B)\n",
    "# spectrum.add_moments(energy_resolution=0.03)"
   ]
  },
  {
   "cell_type": "code",
   "execution_count": 14,
   "metadata": {},
   "outputs": [],
   "source": [
    "energies, densities = spectrum()\n",
    "energies_subset = np.linspace(-1,1,201)\n",
    "densities_subset = spectrum(energies_subset)"
   ]
  },
  {
   "cell_type": "code",
   "execution_count": 15,
   "metadata": {},
   "outputs": [
    {
     "data": {
      "text/plain": [
       "[<matplotlib.lines.Line2D at 0x14d2fedef1f0>]"
      ]
     },
     "execution_count": 15,
     "metadata": {},
     "output_type": "execute_result"
    },
    {
     "data": {
      "image/png": "[encoded data removed]",
      "text/plain": [
       "<Figure size 1080x360 with 1 Axes>"
      ]
     },
     "metadata": {
      "needs_background": "light"
     },
     "output_type": "display_data"
    }
   ],
   "source": [
    "plt.figure(figsize=(15,5))\n",
    "plt.plot(energies, densities.real)\n",
    "plt.plot(energies_subset, densities_subset.real)"
   ]
  },
  {
   "cell_type": "code",
   "execution_count": 16,
   "metadata": {},
   "outputs": [],
   "source": [
    "fsystem = system.finalized()\n",
    "\n",
    "center_tag = np.array([0, 0])\n",
    "where = lambda s: s.tag == center_tag\n",
    "vector_factory = kwant.kpm.LocalVectors(fsystem, where)\n",
    "\n",
    "spectrum = kwant.kpm.SpectralDensity(fsystem, params=parameters_wo_adatom_wo_B, num_vectors=None,\n",
    "                                          vector_factory=vector_factory,\n",
    "                                          mean=False)\n",
    "# spectrum.add_moments(100)\n",
    "# spectrum.add_moments(energy_resolution=0.01)\n",
    "\n",
    "energies, densities = spectrum()\n",
    "\n",
    "energies_subset = np.linspace(-2.2,2.2,501)\n",
    "densities_subset = spectrum(energies_subset)"
   ]
  },
  {
   "cell_type": "code",
   "execution_count": 17,
   "metadata": {},
   "outputs": [
    {
     "data": {
      "text/plain": [
       "[<matplotlib.lines.Line2D at 0x14d2fef1b340>,\n",
       " <matplotlib.lines.Line2D at 0x14d2fef1bb50>,\n",
       " <matplotlib.lines.Line2D at 0x14d2fef1b910>,\n",
       " <matplotlib.lines.Line2D at 0x14d2fef1b490>]"
      ]
     },
     "execution_count": 17,
     "metadata": {},
     "output_type": "execute_result"
    },
    {
     "data": {
      "image/png": "[encoded data removed]",
      "text/plain": [
       "<Figure size 1080x360 with 1 Axes>"
      ]
     },
     "metadata": {
      "needs_background": "light"
     },
     "output_type": "display_data"
    }
   ],
   "source": [
    "plt.figure(figsize=(15,5))\n",
    "plt.plot(energies, densities.real)\n",
    "plt.plot(energies_subset, densities_subset.real)\n",
    "# plt.ylim(1000, 7000)\n",
    "# plt.xlim(-1.5, 1.5)"
   ]
  },
  {
   "cell_type": "markdown",
   "metadata": {
    "hideCode": false,
    "hidePrompt": false
   },
   "source": [
    "## Placing the adatom and chaging the hopping properly"
   ]
  },
  {
   "cell_type": "markdown",
   "metadata": {
    "hideCode": false,
    "hidePrompt": false
   },
   "source": [
    "We want to place a single Hydrogen-atom on top of a specified Graphene site. As a criteria, we want to avoid the sites at the interface between the scattering system and the leads. Currently it is not possible to place an adatom at the boundaries of the strip, but it will be changed soon.\n",
    "\n",
    "Since our system presents altered hoppings between next-nearest-neighbors, the sites allowed to host H-adatoms has to be at least one primitive vector away from the boundaries of the system. Now our tasks are, given the chosen C$_H$ atom (host Carbon atom),\n",
    "\n",
    "1. to collect the nearest-neighbors (nn) and the next-nearest-neighbor (nnn) of C$_H$,\n",
    "2. given the C$_H$, its nn and its nnn, to change the hoppings"
   ]
  },
  {
   "cell_type": "markdown",
   "metadata": {
    "hideCode": false,
    "hidePrompt": false
   },
   "source": [
    "### Defining the \"pseudo-lattice\" for H-atoms:"
   ]
  },
  {
   "cell_type": "code",
   "execution_count": 18,
   "metadata": {
    "code_folding": [],
    "hideCode": false,
    "hidePrompt": false
   },
   "outputs": [],
   "source": [
    "hydrogen = kwant.lattice.general([(1, 0), (sin_30, cos_30)], # primitive vectors\n",
    "                                 [(0, 0), (0, 1 / np.sqrt(3))],        # coord. of basis atoms\n",
    "                                 norbs = 2,                            # number of orbitals per site (spin)\n",
    "                                 name='H'                              # name for identification\n",
    "                                )\n",
    "## Split in sublattices\n",
    "HA, HB = hydrogen.sublattices"
   ]
  },
  {
   "cell_type": "markdown",
   "metadata": {},
   "source": [
    "### Geetting the neighbors"
   ]
  },
  {
   "cell_type": "code",
   "execution_count": 19,
   "metadata": {
    "code_folding": [
     1,
     8,
     29
    ]
   },
   "outputs": [],
   "source": [
    "## Getting the neighboring sites\n",
    "def get_neighbors(system, C_H_site):\n",
    "    site_tag = C_H_site.tag\n",
    "    site_sub = C_H_site.family\n",
    "    nn_list = get_nn(system, site_tag, site_sub)\n",
    "    nnn_list = get_nnn(system, site_tag, site_sub)\n",
    "    return nn_list, nnn_list\n",
    "\n",
    "def get_nn(system, tag, sub_s):\n",
    "    \"\"\"\n",
    "    system := kwant.builder.Builder\n",
    "    tag    := tuple (i,j) of the site's tag\n",
    "    sub_s  := site's sublattice\n",
    "\n",
    "    Notice that\n",
    "    \"\"\"\n",
    "    list_sub_lat = [A, B]\n",
    "    list_sub_lat.remove(sub_s)\n",
    "    sub_nn, = list_sub_lat\n",
    "    # print(sub_nn.name[-1])\n",
    "    name_indx = int(sub_s.name[-1])\n",
    "    delta = +1 if name_indx == 0 else -1\n",
    "    i,j = tag\n",
    "    nn_tag_list = [(i,j), (i+delta,j-delta), (i,j-delta)]\n",
    "    nn_sites = [\n",
    "        sub_nn(*t) for t in nn_tag_list if sub_nn(*t) in system\n",
    "    ]\n",
    "    return nn_sites\n",
    "\n",
    "def get_nnn(system, tag, sub_s):\n",
    "    \"\"\"\n",
    "    system := kwant.builder.Builder\n",
    "    tag    := tuple (i,j) of the site's tag\n",
    "    sub_s  := site's sublattice\n",
    "\n",
    "    Notice that\n",
    "    \"\"\"\n",
    "    #sub_nnn = sub_s\n",
    "\n",
    "    i,j = tag\n",
    "    nnn_tag_list = [(  i,j+1), (i+1,  j),\n",
    "                    (i+1,j-1), (  i,j-1),\n",
    "                    (i-1,  j), (i-1,j+1)]\n",
    "    nnn_sites = [\n",
    "        sub_s(*t) for t in nnn_tag_list if sub_s(*t) in system\n",
    "    ]\n",
    "#     for site in nnn_sites:\n",
    "#         print(site)\n",
    "    return nnn_sites"
   ]
  },
  {
   "cell_type": "markdown",
   "metadata": {},
   "source": [
    "### Induced SOC"
   ]
  },
  {
   "cell_type": "markdown",
   "metadata": {},
   "source": [
    "$$\n",
    "H_{ASO} = \\frac{i}{3}\\sum_{\\langle\\langle C_H, j \\rangle\\rangle} A^{\\dagger}_{\\sigma}c_{j,\\sigma^{\\prime}} \\left[ \\frac{\\Lambda_I}{\\sqrt{3}} \\nu_{C_H, j} \\hat{s}_z \\right]_{\\sigma, \\sigma^{\\prime}}\n",
    "$$\n",
    "\n",
    "\n",
    "$$\n",
    "H_{BR} = \\frac{2i}{3} \\sum_{\\langle C_H, j \\rangle} A^{\\dagger}_{\\sigma}B_{j\\sigma^{\\prime}} \\left[\\Lambda_{BR} (\\hat{s} \\times \\vec{d}_{C_H, j})_z\\right]_{\\sigma,\\sigma^{\\prime}}\n",
    "$$\n",
    "\n",
    "$$\n",
    "H_{PIA} = \\frac{2i}{3} \\sum_{\\langle\\langle i,j \\rangle\\rangle} B^{\\dagger}_{i\\sigma}B_{j\\sigma^{\\prime}}[\\Lambda_{PIA}(\\hat{s}\\times\\vec{D}_{ij})_{z}]_{\\sigma\\sigma^{\\prime}}\n",
    "$$\n",
    "\n",
    "[PRL 110, 246602 (2013)](https://journals.aps.org/prl/abstract/10.1103/PhysRevLett.110.246602) "
   ]
  },
  {
   "cell_type": "code",
   "execution_count": 20,
   "metadata": {
    "code_folding": [
     1,
     20,
     41
    ]
   },
   "outputs": [],
   "source": [
    "## Changing the hoppings around the adatom\n",
    "def include_ASO_sitewise(system, CH_site, NNN_site, Lambda_I=1):\n",
    "    \"\"\"\n",
    "    Define and replace the hopping between CH_site and one of its NNN sites,\n",
    "    which is identified here as NNN_site.\n",
    "    \"\"\"\n",
    "    # 1.1. Identify the hopping 1/2\n",
    "    delta_tag = list(NNN_site.tag - CH_site.tag)\n",
    "    if delta_tag in ([0,1], [1,-1], [-1,0]): sign = -1\n",
    "    else: sign = +1\n",
    "\n",
    "    # 1.2. Identify the hopping 2/2\n",
    "    family_id  = 1 - 2 * int(CH_site.family.name[-1]) ## 1 (-1) if sublattice == A (B)\n",
    "\n",
    "    # 3. Define the hopping\n",
    "    H_asoc_matrix = family_id * 1j/3 * Lambda_I/np.sqrt(3) * sigma_z # clockwise\n",
    "    H_asoc = HoppingFunction(B_0_hopping=H_asoc_matrix, sign=sign)\n",
    "    \n",
    "    system[CH_site, NNN_site] = H_asoc\n",
    "\n",
    "def include_BR_sitewise(system, CH_site, NN_site, t=1, Lambda_BR=1):\n",
    "    \"\"\"\n",
    "    Update the hopping between the CH_site and the NN_site to include\n",
    "    the Bychkov-Rashba SOC.\n",
    "    \"\"\"\n",
    "    # 1. Identify the hopping 2/2:\n",
    "    dx, dy = np.sqrt(3) * (CH_site.pos - NN_site.pos)\n",
    "    \n",
    "    \n",
    "    \n",
    "    H_hop_matrix = t * sigma_0\n",
    "    H_BR_matrix = (2j/3) * Lambda_BR * (dy * sigma_x - dx * sigma_y) ## (S X d_ij)_z\n",
    "    \n",
    "    H_matrix = H_hop_matrix + H_BR_matrix\n",
    "    \n",
    "    H_BR = HoppingFunction(B_0_hopping = H_matrix, sign=+1)\n",
    "    \n",
    "    \n",
    "    # 2. Define the hopping\n",
    "    system[CH_site, NN_site] = H_BR\n",
    "\n",
    "def include_PIA_sitewise(system, site_target, site_source, lambda_I=1, Lambda_PIA=1):\n",
    "    \"\"\"\n",
    "    Define the PIA hopping and add to the already existent hopping between\n",
    "    site_target and site_source.\n",
    "    \"\"\"\n",
    "    # 1.1 Identify the hopping 1/2:\n",
    "    Dx, Dy = site_target.pos - site_source.pos\n",
    "    \n",
    "    # 1.2 Identify the hopping 2/2:\n",
    "    delta_tag = site_target.tag - site_source.tag\n",
    "    \n",
    "    # 2. ISO\n",
    "    sites_family = site_target.family\n",
    "    if sites_family == A and delta_tag in ([0,1], [1,-1], [-1,0]):\n",
    "        H_iso_matrix = 1j/3 * lambda_I/np.sqrt(3) * sigma_z\n",
    "    elif sites_family == B and delta_tag in ([0,-1], [-1,+1], [1,0]):\n",
    "        H_iso_matrix = 1j/3 * lambda_I/np.sqrt(3) * sigma_z\n",
    "    else:\n",
    "        H_iso_matrix = -1j/3 * lambda_I/np.sqrt(3) * sigma_z\n",
    "\n",
    "    # 3. PIA:\n",
    "    H_PIA_matrix =  2j/3 * Lambda_PIA * (Dy * sigma_x - Dx * sigma_y) ## (S x D_ij)_z\n",
    "    \n",
    "    # 4. Total hopping:\n",
    "    H_PIA_ISO = HoppingFunction(B_0_hopping = (H_iso_matrix + H_PIA_matrix), sign=+1) \n",
    "    \n",
    "    system[site_target, site_source] = H_PIA_ISO"
   ]
  },
  {
   "cell_type": "code",
   "execution_count": 21,
   "metadata": {
    "code_folding": [
     1,
     2,
     5
    ]
   },
   "outputs": [],
   "source": [
    "## Inserting adatom:\n",
    "def insert_adatom(syst, pos_tag, sub_lat, t=1, l_iso=1, T=1, L_I=1, L_BR=1, L_PIA=1):\n",
    "    if sub_lat == A:\n",
    "        site_CH = A(*pos_tag)\n",
    "        site_H = HA(*pos_tag)\n",
    "    elif sub_lat == B:\n",
    "        site_CH = B(*pos_tag)\n",
    "        site_H = HB(*pos_tag)\n",
    "\n",
    "    ## On-site:\n",
    "    syst[site_H] = on_site_H_with_Zeeman\n",
    "    ## Hopping:\n",
    "    syst[site_H, site_CH] = T * sigma_0\n",
    "    ## Neighbors\n",
    "    nn_sites, nnn_sites = get_neighbors(syst, site_CH)\n",
    "\n",
    "    ## Calculate and include the Adatom induced spin-orbit coupling\n",
    "    for site in nnn_sites:\n",
    "        include_ASO_sitewise(syst, site_CH, site, Lambda_I=L_I)\n",
    "\n",
    "    ## Calculate and include into the system the Bychkov-Rashba spin-orbit coupling (BR)\n",
    "    for site in nn_sites:\n",
    "        include_BR_sitewise(syst, site_CH, site,t=t, Lambda_BR=L_BR)\n",
    "\n",
    "    ## Calculate and include into the system the Pseudo-spin inversion asymmetry spin-orbit coupling (PIA)\n",
    "    targets = [nn_sites[(i+1)%3] for i in range(3)]\n",
    "    for site1, site2 in zip(targets, nn_sites):\n",
    "        include_PIA_sitewise(syst, site1, site2, lambda_I=l_iso, Lambda_PIA=L_PIA)"
   ]
  },
  {
   "cell_type": "code",
   "execution_count": 22,
   "metadata": {},
   "outputs": [],
   "source": [
    "pos_tag = (0,0)  # tag for the adatom\n",
    "sub_lat = A      # sublattice of adatom\n",
    "# adatom_params = dict(t = 2.6, l_iso = 12e-6, T = 7.5, L_I = -0.21e-3, L_BR = 0.33e-3, L_PIA = -0.77e-3)\n",
    "adatom_params = dict(t = 2.6, l_iso = 12e-6, T = 7.5, L_I = -0.21e-3, L_BR = 0.33e-3, L_PIA = -0.77e-3)"
   ]
  },
  {
   "cell_type": "code",
   "execution_count": 23,
   "metadata": {},
   "outputs": [],
   "source": [
    "insert_adatom(system, pos_tag, sub_lat,  **adatom_params)"
   ]
  },
  {
   "cell_type": "code",
   "execution_count": 24,
   "metadata": {
    "code_folding": [
     1,
     14
    ]
   },
   "outputs": [
    {
     "data": {
      "image/png": "[encoded data removed]",
      "text/plain": [
       "<Figure size 1440x360 with 1 Axes>"
      ]
     },
     "metadata": {
      "needs_background": "light"
     },
     "output_type": "display_data"
    }
   ],
   "source": [
    "## System:\n",
    "def family_colors(site):\n",
    "        if site.family == A:\n",
    "            color = 'k'\n",
    "        elif site.family == B:\n",
    "            color = 'w'\n",
    "        elif site.family == HA:\n",
    "            color = 'magenta'\n",
    "        elif site.family == HB:\n",
    "            color = 'magenta'\n",
    "        else:\n",
    "            color = 'magenta'\n",
    "        return color\n",
    "\n",
    "def hopping_colors(site1, site2):\n",
    "        if site1.family == site2.family:\n",
    "            color='blue'\n",
    "        else:\n",
    "            color='black'\n",
    "        return color\n",
    "\n",
    "def hopping_lw(site1, site2):\n",
    "    return 0.04 if site1.family == site2.family else 0.1\n",
    "    \n",
    "    \n",
    "    \n",
    "fig, ax = plt.subplots(figsize=(20,5))\n",
    "kwant.plot(system,\n",
    "           site_color=family_colors,\n",
    "           hop_color=hopping_colors,\n",
    "           hop_lw=hopping_lw,\n",
    "           site_lw=0.1, ax=ax)\n",
    "ax.set_aspect('equal')\n",
    "ax.set_xlim(-5,5)\n",
    "ax.set_ylim(-5,5)\n",
    "plt.show()"
   ]
  },
  {
   "cell_type": "code",
   "execution_count": 25,
   "metadata": {},
   "outputs": [],
   "source": [
    "fsystem = system.finalized() ## Finalize the system\n",
    "spectrum = kwant.kpm.SpectralDensity(fsystem, params=parameters_wo_B)\n",
    "# spectrum.add_moments(energy_resolution=0.03)\n",
    "\n",
    "energies, densities = spectrum()\n",
    "energies_subset = np.linspace(-1,1,201)\n",
    "densities_subset = spectrum(energies_subset)"
   ]
  },
  {
   "cell_type": "code",
   "execution_count": 26,
   "metadata": {},
   "outputs": [
    {
     "data": {
      "text/plain": [
       "[<matplotlib.lines.Line2D at 0x14d2feea6100>]"
      ]
     },
     "execution_count": 26,
     "metadata": {},
     "output_type": "execute_result"
    },
    {
     "data": {
      "image/png": "[encoded data removed]",
      "text/plain": [
       "<Figure size 432x288 with 1 Axes>"
      ]
     },
     "metadata": {
      "needs_background": "light"
     },
     "output_type": "display_data"
    }
   ],
   "source": [
    "plt.plot(energies, densities.real)\n",
    "plt.plot(energies_subset, densities_subset.real)"
   ]
  },
  {
   "cell_type": "code",
   "execution_count": 27,
   "metadata": {
    "code_folding": [
     2,
     12
    ]
   },
   "outputs": [
    {
     "ename": "ValueError",
     "evalue": "num_vectors must be provided ifvector_factory has no length.",
     "output_type": "error",
     "traceback": [
      "\u001b[0;31m---------------------------------------------------------------------------\u001b[0m",
      "\u001b[0;31mTypeError\u001b[0m                                 Traceback (most recent call last)",
      "\u001b[0;32m~/anaconda3/envs/kwant/lib/python3.8/site-packages/kwant/kpm.py\u001b[0m in \u001b[0;36m__init__\u001b[0;34m(self, hamiltonian, params, operator, num_vectors, num_moments, energy_resolution, vector_factory, bounds, eps, rng, kernel, mean, accumulate_vectors)\u001b[0m\n\u001b[1;32m    224\u001b[0m             \u001b[0;32mtry\u001b[0m\u001b[0;34m:\u001b[0m\u001b[0;34m\u001b[0m\u001b[0;34m\u001b[0m\u001b[0m\n\u001b[0;32m--> 225\u001b[0;31m                 \u001b[0mlen\u001b[0m\u001b[0;34m(\u001b[0m\u001b[0mvector_factory\u001b[0m\u001b[0;34m)\u001b[0m\u001b[0;34m\u001b[0m\u001b[0;34m\u001b[0m\u001b[0m\n\u001b[0m\u001b[1;32m    226\u001b[0m             \u001b[0;32mexcept\u001b[0m \u001b[0mTypeError\u001b[0m\u001b[0;34m:\u001b[0m\u001b[0;34m\u001b[0m\u001b[0;34m\u001b[0m\u001b[0m\n",
      "\u001b[0;31mTypeError\u001b[0m: object of type 'generator' has no len()",
      "\nDuring handling of the above exception, another exception occurred:\n",
      "\u001b[0;31mValueError\u001b[0m                                Traceback (most recent call last)",
      "\u001b[0;32m<ipython-input-27-400d38019062>\u001b[0m in \u001b[0;36m<module>\u001b[0;34m\u001b[0m\n\u001b[1;32m     11\u001b[0m \u001b[0mvector_factory\u001b[0m \u001b[0;34m=\u001b[0m \u001b[0mkwant\u001b[0m\u001b[0;34m.\u001b[0m\u001b[0mkpm\u001b[0m\u001b[0;34m.\u001b[0m\u001b[0mRandomVectors\u001b[0m\u001b[0;34m(\u001b[0m\u001b[0mfsystem\u001b[0m\u001b[0;34m,\u001b[0m \u001b[0mwhere\u001b[0m\u001b[0;34m)\u001b[0m\u001b[0;34m\u001b[0m\u001b[0;34m\u001b[0m\u001b[0m\n\u001b[1;32m     12\u001b[0m \u001b[0;34m\u001b[0m\u001b[0m\n\u001b[0;32m---> 13\u001b[0;31m spectrum = kwant.kpm.SpectralDensity(fsystem, params=parameters_wo_B, num_vectors=None,\n\u001b[0m\u001b[1;32m     14\u001b[0m                                           \u001b[0mvector_factory\u001b[0m\u001b[0;34m=\u001b[0m\u001b[0mvector_factory\u001b[0m\u001b[0;34m,\u001b[0m\u001b[0;34m\u001b[0m\u001b[0;34m\u001b[0m\u001b[0m\n\u001b[1;32m     15\u001b[0m                                           mean=False)\n",
      "\u001b[0;32m~/anaconda3/envs/kwant/lib/python3.8/site-packages/kwant/kpm.py\u001b[0m in \u001b[0;36m__init__\u001b[0;34m(self, hamiltonian, params, operator, num_vectors, num_moments, energy_resolution, vector_factory, bounds, eps, rng, kernel, mean, accumulate_vectors)\u001b[0m\n\u001b[1;32m    226\u001b[0m             \u001b[0;32mexcept\u001b[0m \u001b[0mTypeError\u001b[0m\u001b[0;34m:\u001b[0m\u001b[0;34m\u001b[0m\u001b[0;34m\u001b[0m\u001b[0m\n\u001b[1;32m    227\u001b[0m                 \u001b[0;32mif\u001b[0m \u001b[0mnum_vectors\u001b[0m \u001b[0;32mis\u001b[0m \u001b[0;32mNone\u001b[0m\u001b[0;34m:\u001b[0m\u001b[0;34m\u001b[0m\u001b[0;34m\u001b[0m\u001b[0m\n\u001b[0;32m--> 228\u001b[0;31m                     raise ValueError('num_vectors must be provided if'\n\u001b[0m\u001b[1;32m    229\u001b[0m                                      'vector_factory has no length.')\n\u001b[1;32m    230\u001b[0m             self._vector_factory = _VectorFactory(\n",
      "\u001b[0;31mValueError\u001b[0m: num_vectors must be provided ifvector_factory has no length."
     ]
    }
   ],
   "source": [
    "fsystem = system.finalized()\n",
    "\n",
    "# center_radius = 10\n",
    "# where = lambda s: s.pos[0]**2 + s.pos[1]**2 <= center_radius**2\n",
    "\n",
    "# where = lambda s: s.pos[0] == 0 and s.pos[1] <= center_radius\n",
    "\n",
    "center_tag = np.array([0, 0])\n",
    "where = lambda s: s.tag == center_tag\n",
    "\n",
    "vector_factory = kwant.kpm.LocalVectors(fsystem, where)\n",
    "\n",
    "spectrum = kwant.kpm.SpectralDensity(fsystem, params=parameters_wo_B, num_vectors=None,\n",
    "                                          vector_factory=vector_factory,\n",
    "                                          mean=False)\n",
    "# # spectrum.add_moments(100)\n",
    "# # spectrum.add_moments(energy_resolution=0.01)\n",
    "\n",
    "energies, densities = spectrum()\n",
    "\n",
    "\n",
    "energies_subset = np.linspace(-2.2,2.2,501)\n",
    "densities_subset = spectrum(energies_subset)"
   ]
  },
  {
   "cell_type": "code",
   "execution_count": null,
   "metadata": {},
   "outputs": [],
   "source": [
    "plt.figure(figsize=(15,5))\n",
    "plt.plot(energies, densities.real)\n",
    "# plt.plot(energies_subset, densities_subset.real)\n",
    "plt.ylim(0, 1.4)\n",
    "# plt.xlim(-5, 5)"
   ]
  },
  {
   "cell_type": "code",
   "execution_count": null,
   "metadata": {},
   "outputs": [],
   "source": [
    "densities.shape"
   ]
  },
  {
   "cell_type": "markdown",
   "metadata": {},
   "source": [
    "### Transport calculation"
   ]
  },
  {
   "cell_type": "code",
   "execution_count": null,
   "metadata": {
    "code_folding": []
   },
   "outputs": [],
   "source": [
    "## L-Lead modes:\n",
    "# fig, ax = plt.subplots(figsize=(8,5))\n",
    "# params_lead_0_hand = dict(t=1,\n",
    "#                           B=0.5*np.pi,\n",
    "#                           peierls_lead_L=peierls_lead_L,\n",
    "#                           Lm=3,\n",
    "#                          )\n",
    "# lead_0 = leads[0].finalized()\n",
    "# kwant.plotter.bands(lead_0, params=params_lead_0_hand, ax=ax)\n",
    "# ax.set_ylabel('Energy [eV]')\n",
    "# ax.set_xlabel(r'$k_x$ [1/a]')\n",
    "# plt.savefig('energy_dispersion_left_lead.png', dpi=200)"
   ]
  },
  {
   "cell_type": "code",
   "execution_count": null,
   "metadata": {},
   "outputs": [],
   "source": []
  },
  {
   "cell_type": "code",
   "execution_count": null,
   "metadata": {},
   "outputs": [],
   "source": []
  },
  {
   "cell_type": "code",
   "execution_count": null,
   "metadata": {},
   "outputs": [],
   "source": []
  },
  {
   "cell_type": "code",
   "execution_count": null,
   "metadata": {},
   "outputs": [],
   "source": []
  },
  {
   "cell_type": "code",
   "execution_count": null,
   "metadata": {},
   "outputs": [],
   "source": []
  },
  {
   "cell_type": "code",
   "execution_count": null,
   "metadata": {},
   "outputs": [],
   "source": []
  },
  {
   "cell_type": "code",
   "execution_count": null,
   "metadata": {},
   "outputs": [],
   "source": []
  },
  {
   "cell_type": "code",
   "execution_count": null,
   "metadata": {},
   "outputs": [],
   "source": []
  },
  {
   "cell_type": "code",
   "execution_count": null,
   "metadata": {},
   "outputs": [],
   "source": []
  },
  {
   "cell_type": "markdown",
   "metadata": {
    "hideCode": false,
    "hidePrompt": false
   },
   "source": [
    "## Getting the neighbors of the C_H's"
   ]
  },
  {
   "cell_type": "markdown",
   "metadata": {
    "heading_collapsed": true
   },
   "source": [
    "## Including the SOC terms induced by the adatoms"
   ]
  },
  {
   "cell_type": "code",
   "execution_count": null,
   "metadata": {
    "code_folding": [
     61
    ],
    "hidden": true
   },
   "outputs": [],
   "source": [
    "def include_ASO_sitewise(system, CH_site, NNN_site, hop_list, Lambda_I=1):\n",
    "    \"\"\"\n",
    "    This function has two effects:\n",
    "        1. Define a hopping between CH_site and NNN_site\n",
    "        2. Returns an updated hop_list\n",
    "    \n",
    "    Naturaly, the first effect occurs only in the case the hopping \n",
    "    isn't on the list. Otherwise the hopping will not be included and\n",
    "    the hop_list will not be altered.\n",
    "    \"\"\"\n",
    "    # 1. Verify if the hopping is duplicated\n",
    "    if (CH_site, NNN_site) not in hop_list: \n",
    "\n",
    "        # 2.1. Identify the hopping 1/2\n",
    "        delta_tag = list(NNN_site.tag - CH_site.tag)\n",
    "        if delta_tag in ([0,1], [1,-1], [-1,0]): sign = -1\n",
    "        else: sign = +1\n",
    "        \n",
    "        # 2.2. Identify the hopping 2/2\n",
    "        family_id  = 1 - 2 * int(CH_site.family.name[-1]) ## 1 (-1) if sublattice == A (B)\n",
    "        \n",
    "        # 3. Define the hopping\n",
    "        H_asoc = sign * family_id * 1j/3 * Lambda_I/np.sqrt(3) * sigma_z # clockwise    \n",
    "        system[CH_site, NNN_site] = H_asoc ## sytem[sublat_1(target), sublat_2(source)]\n",
    "        \n",
    "#         peierls_1(Site1, Site2, B, Lm)\n",
    "        \n",
    "        # 4. Save pairs in hop_list\n",
    "        hop_list.append((CH_site, NNN_site)) # (CH, NNN)\n",
    "        hop_list.append((NNN_site, CH_site)) # (NNN, CH)\n",
    "        \n",
    "    return hop_list\n",
    "\n",
    "\n",
    "def include_BR_sitewise(system, CH_site, NN_site, hop_list, Lambda_BR=1):\n",
    "    \"\"\"\n",
    "    This function has two effects:\n",
    "        1. Define a hopping between CH_site and NN_site\n",
    "        2. Returns an updated hop_list\n",
    "    \n",
    "    The first effect occurs only in the case the hopping \n",
    "    isn't on the list. Otherwise the hopping will not be included and\n",
    "    the hop_list will not be altered.\n",
    "    \"\"\"\n",
    "    # 1. Verify if the hopping is duplicated\n",
    "    if (CH_site, NN_site) not in hop_list:\n",
    "        \n",
    "        # 2. Identify the hopping 2/2:\n",
    "        dx, dy = np.sqrt(3) * (CH_site.pos - NN_site.pos) \n",
    "        H_BR = (2j/3) * Lambda_BR * (dy * sigma_x - dx * sigma_y) ## (S X d_ij)_z \n",
    "        \n",
    "        # 3. Define the hopping\n",
    "        system[CH_site, NN_site] += H_BR\n",
    "        \n",
    "        # 4. Save pairs in hop_list\n",
    "        hop_list.append((CH_site, NN_site)) # (CH, NNN)\n",
    "        hop_list.append((NN_site, CH_site)) # (NNN, CH)\n",
    "        \n",
    "    return hop_list\n",
    "\n",
    "\n",
    "def include_PIA_sitewise(system, site_target, site_source, hop_list, Lambda_PIA=1):\n",
    "    \"\"\"\n",
    "    This function has two effects:\n",
    "        1. Define a hopping between CH_site and NN_site\n",
    "        2. Returns an updated hop_list\n",
    "    \n",
    "    The first effect occurs only in the case the hopping \n",
    "    isn't on the list. Otherwise the hopping will not be included and\n",
    "    the hop_list will not be altered.\n",
    "    \"\"\"\n",
    "    # 1. Verify if the hopping is duplicated\n",
    "    if (site_target, site_source) not in hop_list:\n",
    "        \n",
    "        # 2. Identify the hopping:\n",
    "        Dx, Dy = site_target.pos - site_source.pos\n",
    "        \n",
    "        # 3. Define the hopping\n",
    "        H_PIA =  2j/3 * Lambda_PIA * (Dy * sigma_x - Dx * sigma_y) ## (S x D_ij)_z\n",
    "        system[site_target, site_source] += H_PIA\n",
    "        \n",
    "        # 4. Save pairs in hop_list\n",
    "        hop_list.append((site_target, site_source)) # (site1, site2)\n",
    "        hop_list.append((site_source, site_target)) # (site2, site1)\n",
    "        \n",
    "    return hop_list"
   ]
  },
  {
   "cell_type": "markdown",
   "metadata": {
    "hidden": true
   },
   "source": [
    "#### Adatom induced spin-orbit coupling (ASO)"
   ]
  },
  {
   "cell_type": "code",
   "execution_count": null,
   "metadata": {
    "code_folding": [],
    "hidden": true
   },
   "outputs": [],
   "source": [
    "## Calculate and include the Adatom induced spin-orbit coupling\n",
    "hop_list_ASO = []\n",
    "for CH_site, NNN_sites in zip(CH_sites, all_NNN_neighbors):\n",
    "    for NNN_site in NNN_sites:\n",
    "#         print(CH_site,'--', NNN_site)\n",
    "        include_ASO_sitewise(system, CH_site, NNN_site, hop_list_ASO, Lambda_I=1)"
   ]
  },
  {
   "cell_type": "code",
   "execution_count": null,
   "metadata": {
    "code_folding": [
     0
    ],
    "hidden": true
   },
   "outputs": [],
   "source": [
    "## Figure\n",
    "fig, ax = plt.subplots(figsize=(20,5))\n",
    "kwant.plot(system,\n",
    "           site_color=family_colors_H,\n",
    "           hop_color=hopping_colors,\n",
    "           hop_lw=hopping_lw,\n",
    "           site_lw=0.1, ax=ax)\n",
    "ax.set_aspect('equal')\n",
    "plt.show()"
   ]
  },
  {
   "cell_type": "markdown",
   "metadata": {
    "hidden": true
   },
   "source": [
    "#### Bychkov-Rashba spin-orbit coupling (BR)"
   ]
  },
  {
   "cell_type": "code",
   "execution_count": null,
   "metadata": {
    "code_folding": [],
    "hidden": true
   },
   "outputs": [],
   "source": [
    "## Calculate and include into the system the Bychkov-Rashba spin-orbit coupling (BR)\n",
    "hop_list_BR = []\n",
    "for CH_site, NN_sites in zip(CH_sites, all_NN_neighbors):\n",
    "    print(len(NN_sites))\n",
    "    for NN_site in NN_sites:\n",
    "        print(NN_site)\n",
    "        include_BR_sitewise(system, CH_site, NN_site, hop_list_BR, Lambda_BR=1)"
   ]
  },
  {
   "cell_type": "code",
   "execution_count": null,
   "metadata": {
    "code_folding": [
     0
    ],
    "hidden": true
   },
   "outputs": [],
   "source": [
    "## Figure\n",
    "fig, ax = plt.subplots(figsize=(20,5))\n",
    "kwant.plot(system,\n",
    "           site_color=family_colors_H,\n",
    "           hop_color=hopping_colors,\n",
    "           hop_lw=hopping_lw,\n",
    "           site_lw=0.1, ax=ax)\n",
    "ax.set_aspect('equal')\n",
    "plt.show()"
   ]
  },
  {
   "cell_type": "markdown",
   "metadata": {
    "hidden": true
   },
   "source": [
    "### Pseudo-spin inversion asymmetry SOC (PIA)"
   ]
  },
  {
   "cell_type": "code",
   "execution_count": null,
   "metadata": {
    "code_folding": [],
    "hidden": true
   },
   "outputs": [],
   "source": [
    "## Calculate and include into the system the Pseudo-spin inversion asymmetry spin-orbit coupling (PIA)\n",
    "hop_list_PIA = []\n",
    "for NN_sites in all_NN_neighbors:\n",
    "    targets = [NN_sites[(i+1)%3] for i in range(3)]\n",
    "    for site1, site2 in zip(targets, NN_sites):\n",
    "        print(site1, '<--', site2)\n",
    "        include_PIA_sitewise(system, site1, site2, hop_list_PIA, Lambda_PIA=1)"
   ]
  },
  {
   "cell_type": "code",
   "execution_count": null,
   "metadata": {
    "code_folding": [
     0
    ],
    "hidden": true
   },
   "outputs": [],
   "source": [
    "## Figure\n",
    "fig, ax = plt.subplots(figsize=(20,5))\n",
    "kwant.plot(system,\n",
    "           site_color=family_colors_H,\n",
    "           hop_color=hopping_colors,\n",
    "           hop_lw=hopping_lw,\n",
    "           site_lw=0.1, ax=ax)\n",
    "ax.set_aspect('equal')\n",
    "plt.show()"
   ]
  },
  {
   "cell_type": "markdown",
   "metadata": {},
   "source": [
    "## Checking the hoppings"
   ]
  },
  {
   "cell_type": "markdown",
   "metadata": {},
   "source": [
    "## Considerations:"
   ]
  },
  {
   "cell_type": "code",
   "execution_count": null,
   "metadata": {
    "code_folding": [
     28
    ]
   },
   "outputs": [],
   "source": [
    "# Make the system\n",
    "sin_30 = 1/2\n",
    "cos_30 = np.sqrt(3)/2\n",
    "\n",
    "graphene = kwant.lattice.general([(1, 0), (sin_30, cos_30)], # primitive vectors\n",
    "                                 [(0, 0), (0, 1 / np.sqrt(3))],        # coord. of basis atoms\n",
    "                                 norbs = 2,                            # number of orbitals per site (spin)\n",
    "                                 name='Graphene'                       # name of identification\n",
    "                                )\n",
    "## Split in sublattices:\n",
    "A, B = graphene.sublattices\n",
    "\n",
    "## Define the shape of the system:\n",
    "shape = Rectangle(W=1000, L=5)\n",
    "\n",
    "## Build the scattering region:\n",
    "system = make_graphene_strip(graphene, shape, t=2.6, iso=1e-6)\n",
    "\n",
    "## Make the leads:\n",
    "# leads  = make_graphene_leads(graphene, shape.leads, t=2.6, on_site=0, iso=1e-6)\n",
    "\n",
    "## Attach the leads:\n",
    "# for lead in leads:\n",
    "#     system.attach_lead(lead)\n",
    "    \n",
    "\n",
    "pos_tag = (0,0)  # tag for the adatom\n",
    "sub_lat = A      # sublattice of adatom\n",
    "adatom_params = dict(t = 2.6, \n",
    "                     l_iso = 12e-6, \n",
    "                     T = 7.5, \n",
    "                     L_I = -0.21e-3, \n",
    "                     L_BR = 0.33e-3, \n",
    "                     L_PIA = -0.77e-3\n",
    "                    )\n",
    "insert_adatom(system, pos_tag, sub_lat, **adatom_params)"
   ]
  },
  {
   "cell_type": "code",
   "execution_count": null,
   "metadata": {},
   "outputs": [],
   "source": [
    "wrapped = kwant.wraparound.wraparound(system).finalized()"
   ]
  },
  {
   "cell_type": "code",
   "execution_count": null,
   "metadata": {},
   "outputs": [],
   "source": [
    "kwant.wraparound.plot_2d_bands(wrapped, params=parameters_wo_B)\n",
    "# energies, densities = spectrum(param)\n",
    "# energies_subset = np.linspace(-1,1,201)\n",
    "# densities_subset = spectrum(energies_subset)"
   ]
  },
  {
   "cell_type": "code",
   "execution_count": null,
   "metadata": {},
   "outputs": [],
   "source": [
    "type(wrapped)"
   ]
  },
  {
   "cell_type": "code",
   "execution_count": null,
   "metadata": {},
   "outputs": [],
   "source": []
  },
  {
   "cell_type": "code",
   "execution_count": null,
   "metadata": {},
   "outputs": [],
   "source": [
    "lat = kwant.lattice.honeycomb()\n",
    "sym = kwant.TranslationalSymmetry(lat.vec((1, 0)), lat.vec((0, 1)))\n",
    "\n",
    "bulk = kwant.Builder(sym)\n",
    "bulk[ [lat.a(0, 0), lat.b(0, 0)] ] = 0\n",
    "bulk[lat.neighbors()] = 1\n",
    "wrapped = kwant.wraparound.wraparound(bulk).finalized()\n",
    "kwant.wraparound.plot_2d_bands(wrapped)"
   ]
  },
  {
   "cell_type": "code",
   "execution_count": null,
   "metadata": {},
   "outputs": [],
   "source": []
  },
  {
   "cell_type": "code",
   "execution_count": null,
   "metadata": {
    "hideCode": false,
    "hidePrompt": false
   },
   "outputs": [],
   "source": []
  },
  {
   "cell_type": "code",
   "execution_count": null,
   "metadata": {
    "hideCode": false,
    "hidePrompt": false
   },
   "outputs": [],
   "source": []
  },
  {
   "cell_type": "code",
   "execution_count": null,
   "metadata": {
    "hideCode": false,
    "hidePrompt": false
   },
   "outputs": [],
   "source": []
  },
  {
   "cell_type": "code",
   "execution_count": null,
   "metadata": {
    "hideCode": false,
    "hidePrompt": false
   },
   "outputs": [],
   "source": []
  },
  {
   "cell_type": "code",
   "execution_count": null,
   "metadata": {},
   "outputs": [],
   "source": []
  }
 ],
 "metadata": {
  "hide_code_all_hidden": false,
  "kernelspec": {
   "display_name": "python (kwant)",
   "language": "python",
   "name": "kwant"
  },
  "language_info": {
   "codemirror_mode": {
    "name": "ipython",
    "version": 3
   },
   "file_extension": ".py",
   "mimetype": "text/x-python",
   "name": "python",
   "nbconvert_exporter": "python",
   "pygments_lexer": "ipython3",
   "version": "3.8.2"
  },
  "toc": {
   "base_numbering": 1,
   "nav_menu": {},
   "number_sections": false,
   "sideBar": true,
   "skip_h1_title": true,
   "title_cell": "Table of Contents",
   "title_sidebar": "Contents",
   "toc_cell": false,
   "toc_position": {},
   "toc_section_display": true,
   "toc_window_display": false
  }
 },
 "nbformat": 4,
 "nbformat_minor": 4
}
